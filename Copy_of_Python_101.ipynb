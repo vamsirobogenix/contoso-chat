{
  "nbformat": 4,
  "nbformat_minor": 0,
  "metadata": {
    "colab": {
      "provenance": [],
      "authorship_tag": "ABX9TyOVWq4tkZmlOwaLm9ORLxbi",
      "include_colab_link": true
    },
    "kernelspec": {
      "name": "python3",
      "display_name": "Python 3"
    },
    "language_info": {
      "name": "python"
    }
  },
  "cells": [
    {
      "cell_type": "markdown",
      "metadata": {
        "id": "view-in-github",
        "colab_type": "text"
      },
      "source": [
        "<a href=\"https://colab.research.google.com/github/vamsirobogenix/contoso-chat/blob/main/Copy_of_Python_101.ipynb\" target=\"_parent\"><img src=\"https://colab.research.google.com/assets/colab-badge.svg\" alt=\"Open In Colab\"/></a>"
      ]
    },
    {
      "cell_type": "markdown",
      "source": [
        "# Learn Python in 10 days!!\n",
        "By\n",
        "Vamsi Kandionda"
      ],
      "metadata": {
        "id": "H43pU96Cs9H3"
      }
    },
    {
      "cell_type": "markdown",
      "source": [
        "# Data Types\n",
        "# Integer, Float, String, Boolean\n"
      ],
      "metadata": {
        "id": "ji3zOY55tiYz"
      }
    },
    {
      "cell_type": "code",
      "source": [
        "print(\"Data Types Example\")\n",
        "integer_example = 10\n",
        "print(type(integer_example))\n",
        "\n",
        "float_example = 10.0\n",
        "print(type(float_example))\n",
        "\n",
        "string_example = \"Hello, Developer!\"\n",
        "print(type(string_example))\n",
        "\n",
        "boolean_example = True\n",
        "print(type(boolean_example))\n"
      ],
      "metadata": {
        "id": "nwG7xfHjtSSj"
      },
      "execution_count": null,
      "outputs": []
    },
    {
      "cell_type": "markdown",
      "source": [
        "# Conditionals"
      ],
      "metadata": {
        "id": "CldsDxdut8o-"
      }
    },
    {
      "cell_type": "code",
      "source": [
        "print(\"Example of If-Elif-Else\")\n",
        "value = 20\n",
        "if value < 10:\n",
        "    print(\"Value is less than 10\")\n",
        "elif value == 10:\n",
        "    print(\"Value is equal to 10\")\n",
        "else:\n",
        "    print(\"Value is greater than 10\")"
      ],
      "metadata": {
        "id": "edFjuBEwuBZK",
        "outputId": "e5a79a21-808b-41bd-955e-815b6d85308f",
        "colab": {
          "base_uri": "https://localhost:8080/"
        }
      },
      "execution_count": null,
      "outputs": [
        {
          "output_type": "stream",
          "name": "stdout",
          "text": [
            "Example of If-Elif-Else\n",
            "Value is greater than 10\n"
          ]
        }
      ]
    },
    {
      "cell_type": "markdown",
      "source": [
        "# Control Structures"
      ],
      "metadata": {
        "id": "ZKXIQRXGtv_E"
      }
    },
    {
      "cell_type": "code",
      "source": [
        "#For Loop\n",
        "\n",
        "print(\"Example of a For Loop\")\n",
        "for i in range(5):\n",
        "    print(i)\n",
        "#While Loop\n",
        "\n",
        "print(\"Example of a While Loop\")\n",
        "i = 0\n",
        "while i < 5:\n",
        "    print(i)\n",
        "    i += 1"
      ],
      "metadata": {
        "id": "LtYjkZuut0g1"
      },
      "execution_count": null,
      "outputs": []
    },
    {
      "cell_type": "markdown",
      "source": [
        "# Data Structures"
      ],
      "metadata": {
        "id": "GwzbWHehuJQC"
      }
    },
    {
      "cell_type": "code",
      "source": [
        "#List, Tuple, Dictionary\n",
        "\n",
        "print(\"Data Structures Example\")\n",
        "list_example = [1, 2, 3, 4, 5]\n",
        "print(list_example)\n",
        "\n",
        "tuple_example = (1, 2, 3, 4, 5)\n",
        "print(tuple_example)\n",
        "\n",
        "dict_example = {'key1': 'value1', 'key2': 'value2', 'key3': 'value3'}\n",
        "print(dict_example)"
      ],
      "metadata": {
        "id": "cX3iZXZguQDw"
      },
      "execution_count": null,
      "outputs": []
    },
    {
      "cell_type": "markdown",
      "source": [
        "# Advance Data Structures"
      ],
      "metadata": {
        "id": "j3yZPbr2vBp3"
      }
    },
    {
      "cell_type": "markdown",
      "source": [
        "# Sets\n",
        "A set is an unordered collection data type that is iterable, mutable, and has no duplicate elements. It's useful for storing unique items."
      ],
      "metadata": {
        "id": "X-2-xyLvva6s"
      }
    },
    {
      "cell_type": "code",
      "source": [
        "my_set = {1, 2, 3, 4, 5}\n",
        "print(my_set)"
      ],
      "metadata": {
        "id": "2tVfK4oPxv86"
      },
      "execution_count": null,
      "outputs": []
    },
    {
      "cell_type": "markdown",
      "source": [
        "# Frozensets\n",
        "Frozenset is a new class that has the characteristics of a set, but its elements cannot be changed once assigned. It's like an immutable version of a Python set object."
      ],
      "metadata": {
        "id": "kHI0fmSZvmGa"
      }
    },
    {
      "cell_type": "code",
      "source": [
        "my_frozenset = frozenset([1, 2, 3, 4, 5])\n",
        "print(my_frozenset)"
      ],
      "metadata": {
        "id": "QedNS9cxxyPq"
      },
      "execution_count": null,
      "outputs": []
    },
    {
      "cell_type": "markdown",
      "source": [
        "# Arrays\n",
        "An array is a data structure that stores values of the same data type. In Python, this is the main difference between arrays and lists."
      ],
      "metadata": {
        "id": "NgGI1GDwvqwL"
      }
    },
    {
      "cell_type": "code",
      "source": [
        "import array\n",
        "my_array = array.array('i', [1, 2, 3, 4, 5])\n",
        "print(my_array)"
      ],
      "metadata": {
        "id": "8Z8Cb0FFxzge"
      },
      "execution_count": null,
      "outputs": []
    },
    {
      "cell_type": "markdown",
      "source": [
        "# Strings:\n",
        "In Python, Strings are arrays of bytes representing Unicode characters. However, Python does not have a character data type, a single character is simply a string with a length of 1."
      ],
      "metadata": {
        "id": "cypc0BD3vy_o"
      }
    },
    {
      "cell_type": "code",
      "source": [
        "my_string = \"Hello, world!\"\n",
        "print(my_string)"
      ],
      "metadata": {
        "id": "mb5XP112x4Wt"
      },
      "execution_count": null,
      "outputs": []
    },
    {
      "cell_type": "markdown",
      "source": [
        "# Tuple:\n",
        "\n",
        "A tuple is a standard Python data type that acts like a container for storing multiple data in a single unit.\n",
        "Tuples are immutable, meaning the values inside them cannot be changed once defined.\n",
        "They are indexed by integers, so you must know which index corresponds to which value.\n",
        "A tuple is less readable for large amounts of data because it's hard to remember what value is at each index."
      ],
      "metadata": {
        "id": "ViFoaSgnv4L2"
      }
    },
    {
      "cell_type": "code",
      "source": [
        "my_tuple = (1, \"apple\", 3.14)\n",
        "print(my_tuple[1])  # Outputs: apple"
      ],
      "metadata": {
        "id": "ccIng80Ewf1z"
      },
      "execution_count": null,
      "outputs": []
    },
    {
      "cell_type": "markdown",
      "source": [
        "# NamedTuple:\n",
        "\n",
        "A namedtuple is a subclass of tuple that has named fields.\n",
        "Like tuples, namedtuples are immutable. They behave like regular tuples but have fields accessible by attribute lookup as well as being indexable and iterable.\n",
        "You can access the values in a namedtuple with the dot operator and the field name, which increases code readability.\n",
        "Namedtuples consume less memory than regular tuples."
      ],
      "metadata": {
        "id": "QsOZg1YqwYQG"
      }
    },
    {
      "cell_type": "code",
      "source": [
        "from collections import namedtuple\n",
        "\n",
        "Fruit = namedtuple('Fruit', 'number name value')\n",
        "my_fruit = Fruit(1, \"apple\", 3.14)\n",
        "print(my_fruit.name)  # Outputs: apple"
      ],
      "metadata": {
        "id": "U6ey4B-WwcY9"
      },
      "execution_count": null,
      "outputs": []
    },
    {
      "cell_type": "markdown",
      "source": [
        "# Deque:\n",
        "A deque (double-ended queue) is represented with a doubly linked list where each node contains a pointer to the next node as well as the previous node. It can be used when you need a queue that allows adding or removing elements from both ends."
      ],
      "metadata": {
        "id": "y-lhtEuTwjNr"
      }
    },
    {
      "cell_type": "code",
      "source": [
        "from collections import deque\n",
        "my_deque = deque([\"a\", \"b\", \"c\"])\n",
        "print(my_deque)"
      ],
      "metadata": {
        "id": "uJkfzk85x9jS"
      },
      "execution_count": null,
      "outputs": []
    },
    {
      "cell_type": "markdown",
      "source": [
        "# Heapq:\n",
        "This is a Python module which provides an implementation of the heap queue algorithm, also known as the priority queue algorithm."
      ],
      "metadata": {
        "id": "-MaK9qsbwtzm"
      }
    },
    {
      "cell_type": "code",
      "source": [
        "import heapq\n",
        "h = []\n",
        "heapq.heappush(h, (1, 'food'))\n",
        "heapq.heappush(h, (2, 'have fun'))\n",
        "print(h)"
      ],
      "metadata": {
        "id": "GoQ26OIsx-ta"
      },
      "execution_count": null,
      "outputs": []
    },
    {
      "cell_type": "markdown",
      "source": [
        "# Counter:\n",
        "A Counter is a dict subclass for counting hashable objects."
      ],
      "metadata": {
        "id": "bTFFpj2fwz6v"
      }
    },
    {
      "cell_type": "code",
      "source": [
        "from collections import Counter\n",
        "count = Counter(['a', 'b', 'c', 'd', 'a', 'b'])\n",
        "print(count)"
      ],
      "metadata": {
        "id": "mtEb91rRyEId"
      },
      "execution_count": null,
      "outputs": []
    },
    {
      "cell_type": "markdown",
      "source": [
        "# OrderedDict:\n",
        "An OrderedDict is a dictionary subclass that remembers the order in which its contents are added."
      ],
      "metadata": {
        "id": "Bbb9ia-0w4Ix"
      }
    },
    {
      "cell_type": "code",
      "source": [
        "from collections import OrderedDict\n",
        "ordered_dict = OrderedDict([('color1', 'Red'), ('color2', 'Green'), ('color3', 'Blue')])\n",
        "print(ordered_dict)"
      ],
      "metadata": {
        "id": "W33aC2GgyIhl"
      },
      "execution_count": null,
      "outputs": []
    },
    {
      "cell_type": "markdown",
      "source": [
        "# MemoryView:\n",
        "MemoryView is a safe way to expose the buffer protocol in Python."
      ],
      "metadata": {
        "id": "V8uljPK4w8Xe"
      }
    },
    {
      "cell_type": "code",
      "source": [
        "byte_array = bytearray(\"XYZ\", 'utf-16')\n",
        "mv = memoryview(byte_array)\n",
        "print(len(mv))"
      ],
      "metadata": {
        "id": "2mrMWs93yVn9"
      },
      "execution_count": null,
      "outputs": []
    },
    {
      "cell_type": "markdown",
      "source": [
        "# ChainMap:\n",
        "A ChainMap encapsulates many dictionaries into a single unit and returns a list of dictionaries."
      ],
      "metadata": {
        "id": "H9cfDCI7xCGS"
      }
    },
    {
      "cell_type": "code",
      "source": [
        "from collections import ChainMap\n",
        "dict1 = {'color1': 'Red', 'color2': 'Green'}\n",
        "dict2 = {'color3': 'Blue', 'color4': 'Cyan'}\n",
        "chain_map = ChainMap(dict1, dict2)\n",
        "print(chain_map.maps)"
      ],
      "metadata": {
        "id": "FWeurwjtyQ2c"
      },
      "execution_count": null,
      "outputs": []
    },
    {
      "cell_type": "markdown",
      "source": [
        "# Bytearray:\n",
        "It is similar to bytes but more flexible as it can be modified."
      ],
      "metadata": {
        "id": "ZkRkyvtFxdbD"
      }
    },
    {
      "cell_type": "code",
      "source": [
        "b_array = bytearray('XYZ', 'utf-16')\n",
        "print(b_array)"
      ],
      "metadata": {
        "id": "8qhNiEZCxiUP"
      },
      "execution_count": null,
      "outputs": []
    },
    {
      "cell_type": "markdown",
      "source": [
        "# Context Manager:\n",
        "Python’s context manager protocol contains methods for an object to define set-up and tear-down steps for managing resources. While not a data structure in the traditional sense, it's a powerful tool for structuring code."
      ],
      "metadata": {
        "id": "jEt6agtqyhL-"
      }
    },
    {
      "cell_type": "code",
      "source": [
        "class ContextManager():\n",
        "    def __init__(self):\n",
        "        print('init method called')\n",
        "\n",
        "    def __enter__(self):\n",
        "        print('enter method called')\n",
        "        return self\n",
        "\n",
        "    def __exit__(self, exc_type, exc_value, exc_traceback):\n",
        "        print('exit method called')\n",
        "\n",
        "\n",
        "with ContextManager() as manager:\n",
        "    print('statement inside with block')"
      ],
      "metadata": {
        "id": "do-ZZ7H1yj8u"
      },
      "execution_count": null,
      "outputs": []
    },
    {
      "cell_type": "markdown",
      "source": [
        "# Functions in Python:\n",
        "\n",
        "A function is a block of organized, reusable code that is used to perform a single, related action. Functions provide better modularity for your application and a high degree of code reusing."
      ],
      "metadata": {
        "id": "EwZF_GHHyvuy"
      }
    },
    {
      "cell_type": "code",
      "source": [
        "def greet(name):\n",
        "    \"\"\"This function greets the person passed as a parameter\"\"\"\n",
        "    print(\"Hello, \" + name + \". Good morning!\")\n",
        "#Calling a function:\n",
        "\n",
        "greet('John')  # Outputs: Hello, John. Good morning!\n",
        "#Functions can also return values using the return statement:\n",
        "\n",
        "def add_numbers(x, y):\n",
        "    \"\"\"This function adds two numbers\"\"\"\n",
        "    return x + y\n",
        "\n",
        "result = add_numbers(3, 4)\n",
        "print(result)"
      ],
      "metadata": {
        "id": "vr0_9tTZzBAW"
      },
      "execution_count": null,
      "outputs": []
    },
    {
      "cell_type": "markdown",
      "source": [
        "# Lambda Expressions in Python:\n",
        "\n",
        "Lambda expressions in Python are small anonymous functions that are created with the lambda keyword. They can take any number of arguments but can only have one expression. A lambda function can be used wherever function objects are required. They are syntactically restricted to a single expression."
      ],
      "metadata": {
        "id": "Go6lVptVzHQ1"
      }
    },
    {
      "cell_type": "code",
      "source": [
        "add = lambda x, y: x + y\n",
        "print(add(3, 4))  # Outputs: 7\n",
        "\n",
        "\n",
        "numbers = [1, 2, 3, 4, 5]\n",
        "squared = map(lambda x: x ** 2, numbers)\n",
        "print(list(squared))  # Outputs: [1, 4, 9, 16, 25]\n"
      ],
      "metadata": {
        "id": "J36TKT6RzLxx"
      },
      "execution_count": null,
      "outputs": []
    },
    {
      "cell_type": "markdown",
      "source": [
        "# List comprehension\n",
        "is a concise way to create lists in Python. It's a syntactic construct that enables lists to be created from other lists or iterable objects. The resulting list comprehension consists of an output expression followed by one or more for statements and zero or more if statements."
      ],
      "metadata": {
        "id": "UuD24oFRzlet"
      }
    },
    {
      "cell_type": "code",
      "source": [
        "#create a list of the squares of all numbers from 0 to 9:\n",
        "squares = [n**2 for n in range(10)]\n",
        "print(squares)  # Outputs: [0, 1, 4, 9, 16, 25, 36, 49, 64, 81]\n",
        "\n",
        "\n",
        "#You can also add an if statement to a list comprehension to include only items that satisfy a certain condition. For example,\n",
        "#here's how you might create a list of the squares of all even numbers from 0 to 9:\n",
        "\n",
        "even_squares = [n**2 for n in range(10) if n % 2 == 0]\n",
        "print(even_squares)  # Outputs: [0, 4, 16, 36, 64]\n",
        "\n",
        "#List comprehensions can also contain nested for statements. For example,\n",
        "#here's how you might create a list of all combinations of two lists:\n",
        "\n",
        "list1 = [1, 2, 3]\n",
        "list2 = ['a', 'b', 'c']\n",
        "combinations = [(n, c) for n in list1 for c in list2]\n",
        "print(combinations)  # Outputs: [(1, 'a'), (1, 'b'), (1, 'c'), (2, 'a'), (2, 'b'), (2, 'c'), (3, 'a'), (3, 'b'), (3, 'c')]\n",
        "\n"
      ],
      "metadata": {
        "id": "Hub5dM_Izo88"
      },
      "execution_count": null,
      "outputs": []
    },
    {
      "cell_type": "markdown",
      "source": [
        "# Error Handling"
      ],
      "metadata": {
        "id": "laJGxy860m3v"
      }
    },
    {
      "cell_type": "code",
      "source": [
        "#Try/Except:\n",
        "\n",
        "#Here's a simple example of using try/except to handle errors:\n",
        "\n",
        "try:\n",
        "    x = 1 / 0  # This will raise a ZeroDivisionError\n",
        "except ZeroDivisionError as e:\n",
        "    print(\"Error: \", e)\n",
        "\n",
        "#The finally block lets you execute code, regardless of the result of the try and except blocks:\n",
        "\n",
        "try:\n",
        "    x = 1 / 0  # This will raise a ZeroDivisionError\n",
        "except ZeroDivisionError as e:\n",
        "    print(\"Error: \", e)\n",
        "finally:\n",
        "    print(\"This will run no matter what\")\n",
        "\n",
        "\n",
        "#Else:\n",
        "#You can also use an else clause in your try/except block. The else clause will be executed if the try block doesn't throw any exceptions:\n",
        "\n",
        "try:\n",
        "    x = 1 / 1  # This will not raise an exception\n",
        "except ZeroDivisionError as e:\n",
        "    print(\"Error: \", e)\n",
        "else:\n",
        "    print(\"No errors occurred!\")\n",
        "\n",
        "\n",
        "#Raising Exceptions:\n",
        "#You can raise exceptions by using the raise statement. This is useful when you want to trigger an error condition in your program:\n",
        "\n",
        "x = 10\n",
        "if x > 5:\n",
        "    raise Exception('x should not exceed 5. The value of x was: {}'.format(x))\n",
        "\n",
        "\n",
        "#Assertion:\n",
        "#An assertion is a sanity-check that you can turn on or turn off when you are done with your testing of the program.\n",
        "\n",
        "x = 1\n",
        "assert x > 5, 'x should be greater than 5'\n"
      ],
      "metadata": {
        "id": "o5q62KT50oed"
      },
      "execution_count": null,
      "outputs": []
    },
    {
      "cell_type": "markdown",
      "source": [
        "# Modules:\n",
        "\n",
        "In Python, a module is a file containing Python definitions and statements. The file name is the module name with the suffix .py added. We use modules to break down large programs into small manageable and organized files."
      ],
      "metadata": {
        "id": "uQs_iyOl1hyS"
      }
    },
    {
      "cell_type": "code",
      "source": [
        "#You can use any Python source file as a module by executing an import statement in some other Python source file.\n",
        "#For example, if you have a Python file named math_operations.py:\n",
        "\n",
        "# math_operations.py\n",
        "\n",
        "def add(x, y):\n",
        "    return x + y\n",
        "\n",
        "def subtract(x, y):\n",
        "    return x - y"
      ],
      "metadata": {
        "id": "WVLyMG1E1265"
      },
      "execution_count": null,
      "outputs": []
    },
    {
      "cell_type": "markdown",
      "source": [
        "# Libraries:\n",
        "\n",
        "A library is a collection of modules. It's a way of packaging and distributing code to be easily reused by others. Libraries typically include pre-written code, scripts, classes, or entire functions that you can leverage when writing your own code."
      ],
      "metadata": {
        "id": "0MzflJBy2HCG"
      }
    },
    {
      "cell_type": "code",
      "source": [
        "!pip install requests\n",
        "#And then you can import and use it in your Python script:\n",
        "\n",
        "import requests\n",
        "\n",
        "response = requests.get('https://www.google.com')\n",
        "print(response.status_code)  # Outputs: 200"
      ],
      "metadata": {
        "id": "ZceANw9N2Ifx"
      },
      "execution_count": null,
      "outputs": []
    },
    {
      "cell_type": "markdown",
      "source": [
        "# Object-Oriented Programming (OOP) is a programming paradigm that provides a means of structuring programs so that properties and behaviors are bundled into individual objects. In Python, everything is an object."
      ],
      "metadata": {
        "id": "RQHswY4q4gTL"
      }
    },
    {
      "cell_type": "markdown",
      "source": [
        "# Class:\n",
        "A class is a blueprint for creating objects (a particular data structure), providing initial values for state (member variables or attributes), and implementations of behavior (member functions or methods)."
      ],
      "metadata": {
        "id": "0oPVO9vZ4iHe"
      }
    },
    {
      "cell_type": "code",
      "source": [
        "class Car:\n",
        "    def __init__(self, color, brand):\n",
        "        self.color = color\n",
        "        self.brand = brand\n",
        "\n",
        "    def display(self):\n",
        "        print(f\"This is a {self.color} {self.brand}\")"
      ],
      "metadata": {
        "id": "erIpFOET4nob"
      },
      "execution_count": null,
      "outputs": []
    },
    {
      "cell_type": "markdown",
      "source": [
        "# Object:\n",
        "An object is an instance of a class. When class is defined, only the description for the object is defined. Therefore, no memory or storage is allocated. You can create multiple unique objects from a single class."
      ],
      "metadata": {
        "id": "3IZ-RfdF4qQk"
      }
    },
    {
      "cell_type": "code",
      "source": [
        "car1 = Car(\"Red\", \"Toyota\")\n",
        "car2 = Car(\"Blue\", \"BMW\")"
      ],
      "metadata": {
        "id": "QVOsh0gw4v4l"
      },
      "execution_count": null,
      "outputs": []
    },
    {
      "cell_type": "markdown",
      "source": [
        "# Inheritance:\n",
        "Inheritance is a way of creating a new class using details of an existing class without modifying it. The newly formed class is a derived class (or child class). Similarly, the existing class is a base class (or parent class)."
      ],
      "metadata": {
        "id": "MeXnhFms4yWb"
      }
    },
    {
      "cell_type": "code",
      "source": [
        "class Car:\n",
        "    def __init__(self, color, brand):\n",
        "        self.color = color\n",
        "        self.brand = brand\n",
        "\n",
        "    def display(self):\n",
        "        print(f\"This is a {self.color} {self.brand}\")\n",
        "\n",
        "class SportsCar(Car):\n",
        "    def __init__(self, color, brand, speed):\n",
        "        super().__init__(color, brand)\n",
        "        self.speed = speed\n",
        "\n",
        "    def display_speed(self):\n",
        "        print(f\"This car can reach a speed of {self.speed} mph\")\n"
      ],
      "metadata": {
        "id": "upDl9jDy5DEH"
      },
      "execution_count": null,
      "outputs": []
    },
    {
      "cell_type": "markdown",
      "source": [
        "# Encapsulation:\n",
        "\n",
        "It describes the idea of wrapping data and the methods that work on data within one unit. This puts restrictions on accessing variables and methods directly and can prevent the accidental modification of data\n",
        "\n",
        "In Python, you can use classes and objects to achieve encapsulation by using private attributes and methods which are only accessible within the class they are defined.\n"
      ],
      "metadata": {
        "id": "HKwaX4ts5J_4"
      }
    },
    {
      "cell_type": "code",
      "source": [
        "class Car:\n",
        "    def __init__(self, speed, color):\n",
        "        self.__speed = speed\n",
        "        self.__color = color\n",
        "\n",
        "    def set_speed(self, value):\n",
        "        self.__speed = value\n",
        "\n",
        "    def get_speed(self):\n",
        "        return self.__speed\n",
        "\n",
        "    def set_color(self, value):\n",
        "        self.__color = value\n",
        "\n",
        "    def get_color(self):\n",
        "        return self.__color\n",
        "\n",
        "car = Car(200, 'Red')\n",
        "print(car.get_speed())  # Outputs: 200\n",
        "print(car.get_color())  # Outputs: Red\n",
        "\n",
        "car.set_speed(220)\n",
        "car.set_color('Blue')\n",
        "print(car.get_speed())  # Outputs: 220\n",
        "print(car.get_color())  # Outputs: Blue"
      ],
      "metadata": {
        "id": "eK-h249C5Os-"
      },
      "execution_count": null,
      "outputs": []
    },
    {
      "cell_type": "markdown",
      "source": [
        "# Polymorphism:\n",
        "Polymorphism allows us to define methods in the child class with the same name as defined in their parent class. As we know, a child class inherits all the methods from the parent class. However, you will encounter situations where the method inherited from the parent class doesn’t quite fit into the child class. In such cases, you will have to re-implement method in the child class. This process is known as Method Overriding."
      ],
      "metadata": {
        "id": "-OLZaR785lUN"
      }
    },
    {
      "cell_type": "code",
      "source": [
        "class Shape:\n",
        "    def draw(self):\n",
        "        raise NotImplementedError(\"Subclass must implement abstract method\")\n",
        "\n",
        "class Circle(Shape):\n",
        "    def draw(self):\n",
        "        return \"Drawing a circle\"\n",
        "\n",
        "class Square(Shape):\n",
        "    def draw(self):\n",
        "        return \"Drawing a square\"\n",
        "\n",
        "shapes = [Circle(), Square()]\n",
        "\n",
        "for shape in shapes:\n",
        "    print(shape.draw())"
      ],
      "metadata": {
        "id": "TzjhHYlN5uf6"
      },
      "execution_count": null,
      "outputs": []
    },
    {
      "cell_type": "markdown",
      "source": [
        "# Working with Files"
      ],
      "metadata": {
        "id": "FjIbPMr45_zz"
      }
    },
    {
      "cell_type": "code",
      "source": [
        "print(\"File Handling Example\")\n",
        "with open('example.txt', 'w') as file:\n",
        "    file.write(\"Hello, Developer!\")\n",
        "\n",
        "with open('example.txt', 'r') as file:\n",
        "    print(file.read())"
      ],
      "metadata": {
        "id": "SwRtGU6H6B_p"
      },
      "execution_count": null,
      "outputs": []
    },
    {
      "cell_type": "markdown",
      "source": [
        "# Generators\n",
        "generators are a type of iterable, like lists or tuples. They do not allow indexing but they can still be iterated through with for loops. They are created using functions and the yield statement.\n",
        "\n",
        "Generators are a great way to optimize memory. While a list stores all the elements in memory at once, a generator calculates each element on the fly as you loop through them, which can be really useful for large data."
      ],
      "metadata": {
        "id": "uGyPESgA6h9_"
      }
    },
    {
      "cell_type": "code",
      "source": [
        "def count_up_to(n):\n",
        "    count = 1\n",
        "    while count <= n:\n",
        "        yield count\n",
        "        count += 1\n",
        "\n",
        "for number in count_up_to(5):\n",
        "    print(number)"
      ],
      "metadata": {
        "id": "kGtqVYa-6le7"
      },
      "execution_count": null,
      "outputs": []
    },
    {
      "cell_type": "markdown",
      "source": [
        "# Decorators\n",
        "Decorators in Python are essentially functions that add functionality to an existing function in Python without changing the structure of the function itself. They are a very powerful tool, allowing Python developers to modify the behavior of function or class. Decorators allow us to wrap another function in order to extend the behavior of the wrapped function, without permanently modifying it."
      ],
      "metadata": {
        "id": "-Pxr9R_76zaO"
      }
    },
    {
      "cell_type": "code",
      "source": [
        "def my_decorator(func):\n",
        "    def wrapper():\n",
        "        print(\"Something is happening before the function is called.\")\n",
        "        func()\n",
        "        print(\"Something is happening after the function is called.\")\n",
        "    return wrapper\n",
        "\n",
        "def say_hello():\n",
        "    print(\"Hello!\")\n",
        "\n",
        "say_hello = my_decorator(say_hello)\n",
        "\n",
        "\n",
        "#Python also has a shortcut for applying decorators using the @ symbol:\n",
        "\n",
        "@my_decorator\n",
        "def say_hello():\n",
        "    print(\"Hello!\")\n"
      ],
      "metadata": {
        "id": "Suf0TKo162ty"
      },
      "execution_count": null,
      "outputs": []
    },
    {
      "cell_type": "markdown",
      "source": [
        "# Regular Expressions,\n",
        "\n",
        "also known as RegEx, are a sequence of characters that forms a search pattern. RegEx can be used to check if a string contains the specified search pattern. The re module in Python provides support for regular expressions.\n",
        "\n",
        "There are several special sequences you can use in regular expressions:\n",
        "\n",
        "\n",
        "\n",
        "```\n",
        "\\d Matches any decimal digit; this is equivalent to the class [0-9].\n",
        "\\D Matches any non-digit character; this is equivalent to the class [^0-9].\n",
        "\\s Matches any whitespace character; this is equivalent to the class [ \\t\\n\\r\\f\\v].\n",
        "\\S Matches any non-whitespace character; this is equivalent to the class [^ \\t\\n\\r\\f\\v].\n",
        "\\w Matches any alphanumeric character; this is equivalent to the class [a-zA-Z0-9_].\n",
        "\\W Matches any non-alphanumeric character; this is equivalent to the class [^a-zA-Z0-9_].\n",
        "\n",
        "```\n",
        "\n"
      ],
      "metadata": {
        "id": "wwlr_t0S7BlP"
      }
    },
    {
      "cell_type": "code",
      "source": [
        "#Find all substrings where a pattern matches, and return them as a list.\n",
        "import re\n",
        "text = \"The rain in Spain\"\n",
        "x = re.findall(\"ai\", text)\n",
        "print(x)  # Outputs: ['ai', 'ai']\n",
        "\n",
        "\n",
        "#Split the string where there is a match and return a list of strings where the splits have occurred.\n",
        "import re\n",
        "text = \"The rain in Spain\"\n",
        "x = re.split(\"\\s\", text)\n",
        "print(x)  # Outputs: ['The', 'rain', 'in', 'Spain']\n",
        "\n",
        "\n",
        "#Replace one or many matches with a string\n",
        "import re\n",
        "text = \"The rain in Spain\"\n",
        "x = re.sub(\"\\s\", \"_\", text)\n",
        "print(x)  # Outputs: The_rain_in_Spain\n",
        "\n",
        "\n",
        "#Search the string for a match, and return a Match object if there is a match.\n",
        "import re\n",
        "text = \"The rain in Spain\"\n",
        "x = re.search(\"Spain\", text)\n",
        "print(x)  # Outputs: <re.Match object; span=(12, 17), match='Spain'>"
      ],
      "metadata": {
        "id": "tcA5mbJQ7W-B"
      },
      "execution_count": null,
      "outputs": []
    },
    {
      "cell_type": "markdown",
      "source": [],
      "metadata": {
        "id": "xtoKhdmE7vAV"
      }
    }
  ]
}